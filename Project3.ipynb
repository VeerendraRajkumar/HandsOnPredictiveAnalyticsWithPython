{
  "nbformat": 4,
  "nbformat_minor": 0,
  "metadata": {
    "colab": {
      "name": "Project3.ipynb",
      "provenance": [],
      "collapsed_sections": []
    },
    "kernelspec": {
      "name": "python3",
      "display_name": "Python 3"
    }
  },
  "cells": [
    {
      "cell_type": "markdown",
      "metadata": {
        "id": "3aw45lSp8IlU"
      },
      "source": [
        "# Importing libraries"
      ]
    },
    {
      "cell_type": "code",
      "metadata": {
        "id": "1njrZiLiqFax"
      },
      "source": [
        "import pandas as pd\r\n",
        "from sklearn.datasets import load_breast_cancer"
      ],
      "execution_count": null,
      "outputs": []
    },
    {
      "cell_type": "code",
      "metadata": {
        "id": "6W1duJ4IswLD"
      },
      "source": [
        "from sklearn.tree import DecisionTreeClassifier # Import Decision Tree Classifier\r\n",
        "from sklearn.model_selection import train_test_split # Import train_test_split function\r\n",
        "from sklearn import metrics #Import scikit-learn metrics module for accuracy calculation\r\n",
        "from io import StringIO \r\n",
        "from IPython.display import Image  \r\n",
        "from sklearn.tree import export_graphviz\r\n",
        "import pydotplus"
      ],
      "execution_count": null,
      "outputs": []
    },
    {
      "cell_type": "code",
      "metadata": {
        "id": "HjSEaEM7uKCJ"
      },
      "source": [
        "import numpy as np\r\n",
        "import matplotlib.pyplot as plt\r\n",
        "import seaborn as sns\r\n",
        "\r\n",
        "from sklearn.preprocessing import StandardScaler, Normalizer, scale\r\n",
        "from sklearn.ensemble import RandomForestClassifier, AdaBoostClassifier, GradientBoostingClassifier, ExtraTreesClassifier\r\n",
        "from sklearn.svm import SVC, LinearSVC\r\n",
        "from sklearn.metrics import confusion_matrix, log_loss, auc, roc_curve, roc_auc_score, recall_score, precision_recall_curve\r\n",
        "from sklearn.metrics import make_scorer, precision_score, fbeta_score, f1_score, classification_report, accuracy_score\r\n",
        "from sklearn.model_selection import cross_val_score, train_test_split, KFold, StratifiedShuffleSplit, GridSearchCV\r\n",
        "from sklearn.neighbors import KNeighborsClassifier"
      ],
      "execution_count": null,
      "outputs": []
    },
    {
      "cell_type": "markdown",
      "metadata": {
        "id": "yZMZQLT3-jjx"
      },
      "source": [
        "# Importing Dataset"
      ]
    },
    {
      "cell_type": "code",
      "metadata": {
        "id": "rrLbDRgKsk_G"
      },
      "source": [
        "df = pd.DataFrame(load_breast_cancer()['data'],columns=load_breast_cancer()['feature_names'])\r\n",
        "df['y'] = load_breast_cancer()['target']"
      ],
      "execution_count": null,
      "outputs": []
    },
    {
      "cell_type": "markdown",
      "metadata": {
        "id": "we1cLoFy-o3f"
      },
      "source": [
        "# Data Preprocessing"
      ]
    },
    {
      "cell_type": "code",
      "metadata": {
        "id": "c0Q8NBCLqpqA"
      },
      "source": [
        "df.info()"
      ],
      "execution_count": null,
      "outputs": []
    },
    {
      "cell_type": "code",
      "metadata": {
        "id": "f67mmWTyq1u_"
      },
      "source": [
        "df.isnull().sum()"
      ],
      "execution_count": null,
      "outputs": []
    },
    {
      "cell_type": "code",
      "metadata": {
        "id": "6G9KgnAIrGpy"
      },
      "source": [
        "df['y'].sum()"
      ],
      "execution_count": null,
      "outputs": []
    },
    {
      "cell_type": "code",
      "metadata": {
        "id": "KMFL2Fu1sMZg"
      },
      "source": [
        "feature_cols = df.columns\r\n",
        "feature_cols = feature_cols.drop('y')"
      ],
      "execution_count": null,
      "outputs": []
    },
    {
      "cell_type": "code",
      "metadata": {
        "id": "SJVKUs2SuDAd"
      },
      "source": [
        "X = df.iloc[:,:-1] # Features\r\n",
        "y = df.iloc[:,-1] # Target variable"
      ],
      "execution_count": null,
      "outputs": []
    },
    {
      "cell_type": "markdown",
      "metadata": {
        "id": "MHBrF7DeVlRJ"
      },
      "source": [
        "# Splitting the dataset"
      ]
    },
    {
      "cell_type": "code",
      "metadata": {
        "id": "ls6VlOjRVc1n"
      },
      "source": [
        "X_train, X_test, y_train, y_test = train_test_split(X, y, test_size=0.3, random_state=0)"
      ],
      "execution_count": null,
      "outputs": []
    },
    {
      "cell_type": "markdown",
      "metadata": {
        "id": "ZuMrMI6FfHTt"
      },
      "source": [
        "# Decision Tree"
      ]
    },
    {
      "cell_type": "code",
      "metadata": {
        "id": "-0fuGLysVilW"
      },
      "source": [
        "cfr = DecisionTreeClassifier()\r\n",
        "\r\n",
        "cfr = cfr.fit(X_train,y_train)\r\n",
        "\r\n",
        "y_pred_cfr = cfr.predict(X_test)\r\n",
        "\r\n",
        "print(\"Accuracy:\",metrics.accuracy_score(y_test, y_pred_cfr))"
      ],
      "execution_count": null,
      "outputs": []
    },
    {
      "cell_type": "code",
      "metadata": {
        "id": "gnv48a83rmVF"
      },
      "source": [
        "dot_data = StringIO()\r\n",
        "export_graphviz(cfr, out_file=dot_data,  \r\n",
        "                filled=True, rounded=True,\r\n",
        "                special_characters=True, feature_names = feature_cols,class_names=['0','1'])\r\n",
        "graph = pydotplus.graph_from_dot_data(dot_data.getvalue())  \r\n",
        "graph.write_png('dtc.png')\r\n",
        "Image(graph.create_png())"
      ],
      "execution_count": null,
      "outputs": []
    },
    {
      "cell_type": "code",
      "metadata": {
        "id": "FaOY5Wre0DnY"
      },
      "source": [
        "y_pred_cfr = cfr.predict(X_test)\r\n",
        "fpr, tpr, thresholds = roc_curve(y_test, y_pred_cfr)\r\n",
        "roc_auc = auc(fpr, tpr)\r\n",
        "\r\n",
        "print ('Accuracy Score is %.4f' % (accuracy_score(y_test, y_pred_cfr)))\r\n",
        "print ('Classification Report : \\n', classification_report(y_test, y_pred_cfr))\r\n",
        "\r\n",
        "plt.title('Receiver Operating Characteristic')\r\n",
        "plt.plot(fpr, tpr, 'y', label = 'AUC = %0.2f' % roc_auc)\r\n",
        "plt.legend(loc = 'lower right')\r\n",
        "plt.plot([0, 1], [0, 1],'r--')\r\n",
        "plt.xlim([0, 1])\r\n",
        "plt.ylim([0, 1])\r\n",
        "plt.ylabel('True Positive Rate')\r\n",
        "plt.xlabel('False Positive Rate')\r\n",
        "plt.show()"
      ],
      "execution_count": null,
      "outputs": []
    },
    {
      "cell_type": "markdown",
      "metadata": {
        "id": "n2fbCYFaiCSZ"
      },
      "source": [
        "# Tuning the hyper-parameters"
      ]
    },
    {
      "cell_type": "code",
      "metadata": {
        "id": "hkmPBhpFiLou"
      },
      "source": [
        "cfr2 = DecisionTreeClassifier(criterion = 'entropy', max_depth = 10, min_samples_leaf = 10)\r\n",
        "\r\n",
        "cfr2 = cfr2.fit(X_train,y_train)\r\n",
        "\r\n",
        "y_pred_cfr2 = cfr2.predict(X_test)\r\n",
        "\r\n",
        "print(\"Accuracy:\",metrics.accuracy_score(y_test, y_pred_cfr2))"
      ],
      "execution_count": null,
      "outputs": []
    },
    {
      "cell_type": "code",
      "metadata": {
        "id": "-mamR4qOswed"
      },
      "source": [
        "dot_data = StringIO()\r\n",
        "export_graphviz(cfr2, out_file=dot_data,  \r\n",
        "                filled=True, rounded=True,\r\n",
        "                special_characters=True, feature_names = feature_cols,class_names=['0','1'])\r\n",
        "graph = pydotplus.graph_from_dot_data(dot_data.getvalue())  \r\n",
        "graph.write_png('dtc1.png')\r\n",
        "Image(graph.create_png())"
      ],
      "execution_count": null,
      "outputs": []
    },
    {
      "cell_type": "code",
      "metadata": {
        "id": "-dNKk5KI0Wqf"
      },
      "source": [
        "y_pred_cfr2 = cfr2.predict(X_test)\r\n",
        "fpr, tpr, thresholds = roc_curve(y_test, y_pred_cfr2)\r\n",
        "roc_auc = auc(fpr, tpr)\r\n",
        "\r\n",
        "print ('Accuracy Score is %.4f' % (accuracy_score(y_test, y_pred_cfr2)))\r\n",
        "print ('Classification Report : \\n', classification_report(y_test, y_pred_cfr2))\r\n",
        "\r\n",
        "plt.title('Receiver Operating Characteristic')\r\n",
        "plt.plot(fpr, tpr, 'y', label = 'AUC = %0.2f' % roc_auc)\r\n",
        "plt.legend(loc = 'lower right')\r\n",
        "plt.plot([0, 1], [0, 1],'r--')\r\n",
        "plt.xlim([0, 1])\r\n",
        "plt.ylim([0, 1])\r\n",
        "plt.ylabel('True Positive Rate')\r\n",
        "plt.xlabel('False Positive Rate')\r\n",
        "plt.show()"
      ],
      "execution_count": null,
      "outputs": []
    },
    {
      "cell_type": "markdown",
      "metadata": {
        "id": "6VQ6Kc_-tkmz"
      },
      "source": [
        "# Random Forest"
      ]
    },
    {
      "cell_type": "code",
      "metadata": {
        "id": "1CfLE1A2tkEb"
      },
      "source": [
        "rfc = RandomForestClassifier(random_state=0, warm_start = True)\r\n",
        "rfc.fit(X_train, y_train)"
      ],
      "execution_count": null,
      "outputs": []
    },
    {
      "cell_type": "code",
      "metadata": {
        "id": "hDqptDsvv0JU"
      },
      "source": [
        "pred_test_rfc = rfc.predict(X_test)"
      ],
      "execution_count": null,
      "outputs": []
    },
    {
      "cell_type": "code",
      "metadata": {
        "id": "qLEKGI33w4Dx"
      },
      "source": [
        "y_pred_rfc = rfc.predict(X_test)\r\n",
        "fpr, tpr, thresholds = roc_curve(y_test, y_pred_rfc)\r\n",
        "roc_auc = auc(fpr, tpr)\r\n",
        "\r\n",
        "print ('Accuracy Score is %.4f' % (accuracy_score(y_test, y_pred_rfc)))\r\n",
        "print ('Classification Report : \\n', classification_report(y_test, y_pred_rfc))\r\n",
        "\r\n",
        "plt.title('Receiver Operating Characteristic')\r\n",
        "plt.plot(fpr, tpr, 'y', label = 'AUC = %0.2f' % roc_auc)\r\n",
        "plt.legend(loc = 'lower right')\r\n",
        "plt.plot([0, 1], [0, 1],'r--')\r\n",
        "plt.xlim([0, 1])\r\n",
        "plt.ylim([0, 1])\r\n",
        "plt.ylabel('True Positive Rate')\r\n",
        "plt.xlabel('False Positive Rate')\r\n",
        "plt.show()"
      ],
      "execution_count": null,
      "outputs": []
    },
    {
      "cell_type": "markdown",
      "metadata": {
        "id": "88gA6nj0yR6Z"
      },
      "source": [
        "# Gradient Boosting Method"
      ]
    },
    {
      "cell_type": "code",
      "metadata": {
        "id": "fbx1Go4TyRQB"
      },
      "source": [
        "gbm = GradientBoostingClassifier(learning_rate=0.1)\r\n",
        "gbm.fit(X_train,y_train)\r\n",
        "y_pred_gbm = gbm.predict(X_test)"
      ],
      "execution_count": null,
      "outputs": []
    },
    {
      "cell_type": "code",
      "metadata": {
        "id": "9M-dRhGPyrTS"
      },
      "source": [
        "y_pred_gbm = gbm.predict(X_test)\r\n",
        "fpr, tpr, thresholds = roc_curve(y_test, y_pred_gbm)\r\n",
        "roc_auc = auc(fpr, tpr)\r\n",
        "\r\n",
        "print ('Accuracy Score is %.4f' % (accuracy_score(y_test, y_pred_gbm)))\r\n",
        "print ('Classification Report : \\n', classification_report(y_test, y_pred_gbm))\r\n",
        "\r\n",
        "plt.title('Receiver Operating Characteristic')\r\n",
        "plt.plot(fpr, tpr, 'y', label = 'AUC = %0.2f' % roc_auc)\r\n",
        "plt.legend(loc = 'lower right')\r\n",
        "plt.plot([0, 1], [0, 1],'r--')\r\n",
        "plt.xlim([0, 1])\r\n",
        "plt.ylim([0, 1])\r\n",
        "plt.ylabel('True Positive Rate')\r\n",
        "plt.xlabel('False Positive Rate')\r\n",
        "plt.show()"
      ],
      "execution_count": null,
      "outputs": []
    },
    {
      "cell_type": "markdown",
      "metadata": {
        "id": "a2uchZLhzCz3"
      },
      "source": [
        "# K Nearest Neighbour"
      ]
    },
    {
      "cell_type": "code",
      "metadata": {
        "id": "yRHMW5u9zJ71"
      },
      "source": [
        "knc = KNeighborsClassifier(n_neighbors=7)\r\n",
        "\r\n",
        "knc.fit(X_train, y_train)\r\n",
        "\r\n",
        "y_pred_knc = knc.predict(X_test)"
      ],
      "execution_count": null,
      "outputs": []
    },
    {
      "cell_type": "code",
      "metadata": {
        "id": "HcmSkArjzqCr"
      },
      "source": [
        "y_pred_knc = knc.predict(X_test)\r\n",
        "fpr, tpr, thresholds = roc_curve(y_test, y_pred_knc)\r\n",
        "roc_auc = auc(fpr, tpr)\r\n",
        "\r\n",
        "print ('Accuracy Score is %.4f' % (accuracy_score(y_test, y_pred_knc)))\r\n",
        "print ('Classification Report : \\n', classification_report(y_test, y_pred_knc))\r\n",
        "\r\n",
        "plt.title('Receiver Operating Characteristic')\r\n",
        "plt.plot(fpr, tpr, 'y', label = 'AUC = %0.2f' % roc_auc)\r\n",
        "plt.legend(loc = 'lower right')\r\n",
        "plt.plot([0, 1], [0, 1],'r--')\r\n",
        "plt.xlim([0, 1])\r\n",
        "plt.ylim([0, 1])\r\n",
        "plt.ylabel('True Positive Rate')\r\n",
        "plt.xlabel('False Positive Rate')\r\n",
        "plt.show()"
      ],
      "execution_count": null,
      "outputs": []
    }
  ]
}